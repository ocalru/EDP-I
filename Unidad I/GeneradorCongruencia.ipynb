{
  "cells": [
    {
      "cell_type": "markdown",
      "source": [
        "Se tiene la formula general para el generador congruencial lineal (LCG):\n",
        "\n",
        "$$ x_{i+1} = (a*x_i+b) \\text{ mod m} $$\n",
        "\n",
        "$x_{i+1} =$ el numero aleatorio generado en la $(i+1)-iteracion$\n",
        "\n",
        "$x_i = $el numero aleatorio generado en la $i-iteracion$\n",
        "\n",
        "$ a = $ Constante multiplicativa\n",
        "\n",
        "$ b = $ Constante aditiva\n",
        "\n",
        "$ m = $ Módulo (determina el rango de los números generados)\n",
        "\n",
        "$ i = {0 , 1 , 2 , ..... n-1} $ (variable de ciclo)"
      ],
      "metadata": {
        "id": "SkINsQHxefhr"
      }
    },
    {
      "cell_type": "code",
      "execution_count": 1,
      "metadata": {
        "id": "Um0uP5UqsuqP"
      },
      "outputs": [],
      "source": [
        "import tabulate # se importa la libreria tabulate"
      ]
    },
    {
      "cell_type": "code",
      "execution_count": 2,
      "metadata": {
        "id": "dbesaZP0suqQ"
      },
      "outputs": [],
      "source": [
        "def generador(a,b,m,x0): # se define la funcion \"generador\" con los parametros \"a\", \"b\", \"m\", \"x0\"\n",
        "# a = Constante multiplicativa\n",
        "# b = Constante aditiva\n",
        "# m = Módulo (determina el rango de los números generados)\n",
        "# x0 = Semilla inicial (primer número de la secuencia)\n",
        "# x1 = numero aleatorio generado\n",
        "# (a, b, m, x0)  ∈ ℝ\n",
        "# Para este generador congruencial lineal (LCG) en particular, x1 ∈ ℤ+ (solo da valores aleatorios que sean enteros positivos)\n",
        "\n",
        "    x1=(a*x0+b) %m # Nota: ver que hace el simbolo \"%\" en python para entender mejor\n",
        "\n",
        "    return x1 # devuelve el siguiente numero aleatorio \"x1\"\n"
      ]
    },
    {
      "cell_type": "markdown",
      "source": [
        "\n",
        "\n",
        "\n",
        "\n",
        "\n",
        "\n",
        "<font color='red'>**\"%\"**</font> Devuelve el residuo de la division entera entre $(a*x0+b)/m$\n",
        "\n",
        "**Por ejemplo:**\n",
        "\n",
        "$a=5$\n",
        "\n",
        "$b=3$\n",
        "\n",
        "$m=7$\n",
        "\n",
        "$x_0=2$\n",
        "\n",
        "Se tiene la formula:\n",
        "\n",
        "$$ x_1 = (a*x0+b) \\text{ mod m} $$\n",
        "\n",
        "Susitutyendo $ a, b, m, x0: $\n",
        "\n",
        "$$ x_1 = (5*2+3) \\text{mod 7} $$\n",
        "\n",
        "$$ x_1 = (10+3) \\text{mod 7}$$\n",
        "\n",
        "$$ x_1 = (13) \\text{mod 7}$$\n",
        "\n",
        "Para calcular $ x_1 = (13) \\text{mod 7}$ se realiza la divison entera entre $13$ y $7$\n",
        "\n",
        "$$ 7*1 = 7 $$\n",
        "\n",
        "$$ 13 - 7 = 6 $$\n",
        "\n",
        "Entonces:\n",
        "\n",
        "La division entera entre:\n",
        "\n",
        " $$\\text{ (13 y  7) es 1 }$$\n",
        "\n",
        "con:\n",
        "\n",
        "$$ residuo = 6 $$\n",
        "\n",
        "Por lo que:\n",
        "\n",
        "$$ x_1 = 6$$\n"
      ],
      "metadata": {
        "id": "06tJu-EKqHqO"
      }
    },
    {
      "cell_type": "code",
      "execution_count": 3,
      "metadata": {
        "collapsed": true,
        "id": "dzr12MQtsuqR"
      },
      "outputs": [],
      "source": [
        " # se definen los valores del generador congruencial lineal (LCG) \"a\", \"b\", \"m\", \"x0\", en este caso (a, b, m, x0) ∈ ℤ+\n",
        "a=5\n",
        "b=7\n",
        "m=64\n",
        "x0=1\n",
        "\n",
        "n=64 # n = numero de iteraciones\n",
        "\n",
        "muestra=[] # se define el arreglo vacio \"muestra\"\n",
        "datos=[] # se define el arreglo vacio \"datos\"\n",
        "\n",
        "# el ciclo FOR se ejecuta \"n\" veces\n",
        "\n",
        "for i in range(n): # la variable i toma valores de uno en uno  en el intervalo [0,n-1],\n",
        "# se ejecuta el codigo debajo para i-iteraciones  , i = {0 , 1 , 2 , ....... n-1}\n",
        "\n",
        "    nuevo=generador(a,b,m,x0) # se define la variable \"nuevo\" definido como:  nuevo = generador(a,b,m,x0)\n",
        "    muestra.append([i,x0,nuevo/64]) # se agrega al arreglo vacio \"muestra\" el vector 1x3 [i,x0,nuevo/64]\n",
        "    datos.append(x0/64)# se agrega al arreglo vacio \"datos\" el valor (x0/64)\n",
        "    x0=nuevo # se actualiza la variable x0 al valor actual de la variable \"nuevo\"\n",
        "\n"
      ]
    },
    {
      "cell_type": "markdown",
      "source": [
        "Haciendo dos iteraciones ( $i = 0,1$ ) para el ciclo FOR:\n",
        "\n",
        "Para $ i = 0 $\n",
        "\n",
        "Se toma la formula general del generador congruencial lineal (LCG):\n",
        "$$ x_{i+1} = (a*x_i+b) \\text{ mod m} $$\n",
        "\n",
        "Donde:\n",
        "\n",
        "\n",
        "$a=5$\n",
        "\n",
        "$b=7$\n",
        "\n",
        "$m=64$\n",
        "\n",
        "$ \\text{ $x_i=1$ , $i = 0$ } $\n",
        "\n",
        "\n",
        "Se tiene la formula:\n",
        "\n",
        "$$ x_1 = (a*x_0+b) \\text{ mod m} $$\n",
        "\n",
        "Susitutyendo $ a, b, m, x_0: $\n",
        "\n",
        "$$ x_1 = (5*1+7) \\text{mod 64} $$\n",
        "\n",
        "$$ x_1 = (5+7) \\text{mod 64}$$\n",
        "\n",
        "$$ x_1 = (12) \\text{mod 64}$$\n",
        "\n",
        "Se tiene el numero aleatorio:\n",
        "\n",
        "$x_1 = 12$\n",
        "\n",
        "$"
      ],
      "metadata": {
        "id": "5-pAIpyB89qR"
      }
    },
    {
      "cell_type": "code",
      "source": [
        "encabezados=[\"i\", \"x_i\", \"X_{i+1}\"]\n",
        "print(tabulate.tabulate(muestra, headers=encabezados,tablefmt=\"psql\",numalign=\"center\"))"
      ],
      "metadata": {
        "id": "wS9eTM-k72UA",
        "outputId": "b3cc6928-24d7-4989-cca5-87b97ffbbb27",
        "colab": {
          "base_uri": "https://localhost:8080/"
        }
      },
      "execution_count": 4,
      "outputs": [
        {
          "output_type": "stream",
          "name": "stdout",
          "text": [
            "+-----+-------+-----------+\n",
            "|  i  |  x_i  |  X_{i+1}  |\n",
            "|-----+-------+-----------|\n",
            "|  0  |   1   |  0.1875   |\n",
            "|  1  |  12   | 0.046875  |\n",
            "|  2  |   3   |  0.34375  |\n",
            "|  3  |  22   | 0.828125  |\n",
            "|  4  |  53   |   0.25    |\n",
            "|  5  |  16   | 0.359375  |\n",
            "|  6  |  23   |  0.90625  |\n",
            "|  7  |  58   | 0.640625  |\n",
            "|  8  |  41   |  0.3125   |\n",
            "|  9  |  20   | 0.671875  |\n",
            "| 10  |  43   |  0.46875  |\n",
            "| 11  |  30   | 0.453125  |\n",
            "| 12  |  29   |   0.375   |\n",
            "| 13  |  24   | 0.984375  |\n",
            "| 14  |  63   |  0.03125  |\n",
            "| 15  |   2   | 0.265625  |\n",
            "| 16  |  17   |  0.4375   |\n",
            "| 17  |  28   | 0.296875  |\n",
            "| 18  |  19   |  0.59375  |\n",
            "| 19  |  38   | 0.078125  |\n",
            "| 20  |   5   |    0.5    |\n",
            "| 21  |  32   | 0.609375  |\n",
            "| 22  |  39   |  0.15625  |\n",
            "| 23  |  10   | 0.890625  |\n",
            "| 24  |  57   |  0.5625   |\n",
            "| 25  |  36   | 0.921875  |\n",
            "| 26  |  59   |  0.71875  |\n",
            "| 27  |  46   | 0.703125  |\n",
            "| 28  |  45   |   0.625   |\n",
            "| 29  |  40   | 0.234375  |\n",
            "| 30  |  15   |  0.28125  |\n",
            "| 31  |  18   | 0.515625  |\n",
            "| 32  |  33   |  0.6875   |\n",
            "| 33  |  44   | 0.546875  |\n",
            "| 34  |  35   |  0.84375  |\n",
            "| 35  |  54   | 0.328125  |\n",
            "| 36  |  21   |   0.75    |\n",
            "| 37  |  48   | 0.859375  |\n",
            "| 38  |  55   |  0.40625  |\n",
            "| 39  |  26   | 0.140625  |\n",
            "| 40  |   9   |  0.8125   |\n",
            "| 41  |  52   | 0.171875  |\n",
            "| 42  |  11   |  0.96875  |\n",
            "| 43  |  62   | 0.953125  |\n",
            "| 44  |  61   |   0.875   |\n",
            "| 45  |  56   | 0.484375  |\n",
            "| 46  |  31   |  0.53125  |\n",
            "| 47  |  34   | 0.765625  |\n",
            "| 48  |  49   |  0.9375   |\n",
            "| 49  |  60   | 0.796875  |\n",
            "| 50  |  51   |  0.09375  |\n",
            "| 51  |   6   | 0.578125  |\n",
            "| 52  |  37   |     0     |\n",
            "| 53  |   0   | 0.109375  |\n",
            "| 54  |   7   |  0.65625  |\n",
            "| 55  |  42   | 0.390625  |\n",
            "| 56  |  25   |  0.0625   |\n",
            "| 57  |   4   | 0.421875  |\n",
            "| 58  |  27   |  0.21875  |\n",
            "| 59  |  14   | 0.203125  |\n",
            "| 60  |  13   |   0.125   |\n",
            "| 61  |   8   | 0.734375  |\n",
            "| 62  |  47   |  0.78125  |\n",
            "| 63  |  50   | 0.015625  |\n",
            "+-----+-------+-----------+\n"
          ]
        }
      ]
    },
    {
      "cell_type": "code",
      "execution_count": null,
      "metadata": {
        "id": "B2wxJM6rsuqR"
      },
      "outputs": [],
      "source": [
        "print(datos)"
      ]
    },
    {
      "cell_type": "code",
      "execution_count": null,
      "metadata": {
        "id": "WwRg9G4ssuqR"
      },
      "outputs": [],
      "source": []
    }
  ],
  "metadata": {
    "kernelspec": {
      "display_name": "Python 3",
      "language": "python",
      "name": "python3"
    },
    "language_info": {
      "codemirror_mode": {
        "name": "ipython",
        "version": 3
      },
      "file_extension": ".py",
      "mimetype": "text/x-python",
      "name": "python",
      "nbconvert_exporter": "python",
      "pygments_lexer": "ipython3",
      "version": "3.8.3"
    },
    "colab": {
      "provenance": []
    }
  },
  "nbformat": 4,
  "nbformat_minor": 0
}